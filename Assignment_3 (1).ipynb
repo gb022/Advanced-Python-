{
  "nbformat": 4,
  "nbformat_minor": 0,
  "metadata": {
    "colab": {
      "provenance": []
    },
    "kernelspec": {
      "name": "python3",
      "display_name": "Python 3"
    },
    "language_info": {
      "name": "python"
    }
  },
  "cells": [
    {
      "cell_type": "markdown",
      "source": [
        "1. What is the concept of an abstract superclass?\n",
        "---> An abstract superclass acts as a blueprint for its subclasses, defining a common interface, abstract methods, and possibly concrete methods. It promotes code reusability, enforces a specific contract for subclasses, and allows for polymorphism in object-oriented programming languages."
      ],
      "metadata": {
        "id": "bKhRfM8eAObQ"
      }
    },
    {
      "cell_type": "markdown",
      "source": [
        "2. What happens when a class statements top level contains a basic assignment statement?\n",
        "---> When a class statement's top level contains a basic assignment statement, it defines a class-level variable. This means that the assignment statement is executed during the class definition process, and the assigned value becomes a property or attribute of the class itself rather than an instance of the class."
      ],
      "metadata": {
        "id": "_mW0Ux3VAauc"
      }
    },
    {
      "cell_type": "markdown",
      "source": [
        "3. Why does a class need to manually call a superclass&#39;s __init__ method?\n",
        "---> By calling the superclass's __init__ method, the subclass ensures that the superclass's initialization is not bypassed and that the inherited attributes are appropriately initialized. It allows the subclass to build upon the foundation laid by the superclass and ensures that the complete initialization process is performed."
      ],
      "metadata": {
        "id": "MI6RcMVqApCt"
      }
    },
    {
      "cell_type": "markdown",
      "source": [
        "4. How can you augment, instead of completely replacing, an inherited method?\n",
        "---> In object-oriented programming, if you want to augment or extend the functionality of an inherited method rather than completely replacing it, you can follow these steps:\n",
        "\n",
        "1. Define the subclass that inherits from the superclass, which contains the method you want to augment.\n",
        "\n",
        "2. In the subclass, redefine the method with the same name as the superclass's method.\n",
        "\n",
        "3. Within the subclass's method, call the superclass's method using the super() function.\n",
        "\n",
        "4. Add your additional functionality before or after the call to the superclass's method."
      ],
      "metadata": {
        "id": "hEDD8_DkA-ju"
      }
    },
    {
      "cell_type": "markdown",
      "source": [
        "5. How is the local scope of a class different from that of a function?\n",
        "---> The local scope of a class provides access to instance variables throughout the class, retains state specific to each instance, and persists as long as the instance exists. The local scope of a function, on the other hand, is limited to the function itself, and the variables defined within it are accessible only during its execution."
      ],
      "metadata": {
        "id": "SgA9MVZbBSJV"
      }
    }
  ]
}