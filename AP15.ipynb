{
  "nbformat": 4,
  "nbformat_minor": 0,
  "metadata": {
    "colab": {
      "provenance": []
    },
    "kernelspec": {
      "name": "python3",
      "display_name": "Python 3"
    },
    "language_info": {
      "name": "python"
    }
  },
  "cells": [
    {
      "cell_type": "markdown",
      "source": [
        "1.\tWhat are the new features added in Python 3.8 version?\n",
        "---> Python 3.8 introduced several new features and improvements. Some notable additions in Python 3.8 include:\n",
        "\n",
        "1. Assignment Expressions (the Walrus Operator): This feature allows assignment expressions within other expressions. It uses the := operator to assign a value to a variable and return that value in a single line.\n",
        "2. Positional-only Parameters: Python 3.8 introduced the ability to define function parameters that can only be passed by position and not by keyword. By using a / separator in the function signature, you can indicate that certain parameters must be passed positionally.\n",
        "3. f-strings Support \"=\" for Debugging: Python 3.8 extended f-strings to support the = specifier, allowing easier debugging by printing the expression, its value, and the result.\n",
        "4. SyntaxWarning for Unqualified Exec and Eval: Python 3.8 introduced a SyntaxWarning when using exec or eval without explicitly specifying globals and locals. This helps avoid unintended behavior or potential security risks."
      ],
      "metadata": {
        "id": "YOxMwi-6nEi6"
      }
    },
    {
      "cell_type": "markdown",
      "source": [
        "2.\tWhat is monkey patching in Python?\n",
        "---> Monkey patching in Python refers to the technique of modifying or extending the behavior of an existing module, class, or object at runtime by adding, replacing, or modifying its attributes or methods. It allows you to change the behavior of code that you don't control without modifying its original source code."
      ],
      "metadata": {
        "id": "NWoISdf0nSsH"
      }
    },
    {
      "cell_type": "markdown",
      "source": [
        "3.\tWhat is the difference between a shallow copy and deep copy?\n",
        "---> A shallow copy creates a new object but shares the same nested objects as the original, while a deep copy creates an independent copy of the object and all its nested objects. The choice between shallow copy and deep copy depends on the specific requirements and whether you want changes to the copied object to affect the original or vice versa."
      ],
      "metadata": {
        "id": "cXGz9s4cniOB"
      }
    },
    {
      "cell_type": "code",
      "source": [
        "#Example\n",
        "import copy\n",
        "\n",
        "original_list = [1, [2, 3], [4, 5]]\n",
        "\n",
        "# Shallow copy\n",
        "shallow_copy = original_list.copy()\n",
        "shallow_copy[1][0] = 'changed'\n",
        "\n",
        "# Deep copy\n",
        "deep_copy = copy.deepcopy(original_list)\n",
        "deep_copy[1][0] = 'modified'\n",
        "\n",
        "print(original_list)  # Output: [1, ['changed', 3], [4, 5]]\n",
        "print(shallow_copy)   # Output: [1, ['changed', 3], [4, 5]]\n",
        "print(deep_copy)      # Output: [1, ['modified', 3], [4, 5]]\n"
      ],
      "metadata": {
        "colab": {
          "base_uri": "https://localhost:8080/"
        },
        "id": "h3qmnpCVnrti",
        "outputId": "d34a0fad-4f04-41a5-cd35-e8fee8f0c393"
      },
      "execution_count": 1,
      "outputs": [
        {
          "output_type": "stream",
          "name": "stdout",
          "text": [
            "[1, ['changed', 3], [4, 5]]\n",
            "[1, ['changed', 3], [4, 5]]\n",
            "[1, ['modified', 3], [4, 5]]\n"
          ]
        }
      ]
    },
    {
      "cell_type": "markdown",
      "source": [
        "4.\tWhat is the maximum possible length of an identifier?\n",
        "--->\n",
        "In Python, the maximum possible length of an identifier, which includes variable names, function names, class names, etc., is not explicitly defined. However, there are practical limits based on the underlying implementation and system constraints."
      ],
      "metadata": {
        "id": "t2SdtwZ2nwKd"
      }
    },
    {
      "cell_type": "markdown",
      "source": [
        "5.\tWhat is generator comprehension?\n",
        "---> Generator comprehension, also known as generator expression, is a concise way to create a generator in Python. It provides a compact syntax for generating a sequence of values without the need to store them all in memory at once."
      ],
      "metadata": {
        "id": "KAW6y1pan8u6"
      }
    }
  ]
}