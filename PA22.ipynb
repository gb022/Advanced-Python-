{
  "nbformat": 4,
  "nbformat_minor": 0,
  "metadata": {
    "colab": {
      "provenance": []
    },
    "kernelspec": {
      "name": "python3",
      "display_name": "Python 3"
    },
    "language_info": {
      "name": "python"
    }
  },
  "cells": [
    {
      "cell_type": "code",
      "execution_count": 1,
      "metadata": {
        "id": "IRoKUhW40q8k"
      },
      "outputs": [],
      "source": [
        "# Q1. What are the benefits of the built-in array package, if any?"
      ]
    },
    {
      "cell_type": "code",
      "source": [
        "'''\n",
        "The built-in array package in Python has several benefits, including:\n",
        "\n",
        "Speed: Arrays are stored in contiguous memory, which makes them faster to access than lists.\n",
        "\n",
        "Efficiency: Arrays are more efficient than lists for mathematical operations, such as addition, subtraction, multiplication, and division.\n",
        "\n",
        "Flexibility: Arrays can be of any dimension, while lists are always one-dimensional.\n",
        "\n",
        "Convenience: Arrays provide a number of convenience functions, such as append(), insert(), and sort().\n",
        "'''"
      ],
      "metadata": {
        "colab": {
          "base_uri": "https://localhost:8080/",
          "height": 87
        },
        "id": "hLkSOwnI08ij",
        "outputId": "1ad9e4c5-c0a7-4c45-d2ef-8f93b3e149fe"
      },
      "execution_count": 2,
      "outputs": [
        {
          "output_type": "execute_result",
          "data": {
            "text/plain": [
              "'\\nThe built-in array package in Python has several benefits, including:\\n\\nSpeed: Arrays are stored in contiguous memory, which makes them faster to access than lists.\\nEfficiency: Arrays are more efficient than lists for mathematical operations, such as addition, subtraction, multiplication, and division.\\nFlexibility: Arrays can be of any dimension, while lists are always one-dimensional.\\nConvenience: Arrays provide a number of convenience functions, such as append(), insert(), and sort().\\n'"
            ],
            "application/vnd.google.colaboratory.intrinsic+json": {
              "type": "string"
            }
          },
          "metadata": {},
          "execution_count": 2
        }
      ]
    },
    {
      "cell_type": "code",
      "source": [
        "# Q2. What are some of the array package&#39;s limitations?"
      ],
      "metadata": {
        "id": "KMeAZ6gN1xKM"
      },
      "execution_count": 3,
      "outputs": []
    },
    {
      "cell_type": "code",
      "source": [
        "'''\n",
        "The built-in array package in Python has a few limitations, including:\n",
        "\n",
        "Fixed size: Arrays have a fixed size, which means that you cannot add or remove elements after they have been created.\n",
        "            This can be a limitation if you need to store a variable amount of data.\n",
        "\n",
        "Single data type: Arrays can only store elements of the same data type. This can be a limitation if you need to store data of different types.\n",
        "\n",
        "Memory allocation: Allocating and deallocating memory for arrays can be inefficient, especially for large arrays.\n",
        "\n",
        "Complexity: The array package can be complex to use, especially for beginners.\n",
        "'''"
      ],
      "metadata": {
        "colab": {
          "base_uri": "https://localhost:8080/",
          "height": 87
        },
        "id": "wX2UQQ8N1zW7",
        "outputId": "8750af8e-b4fc-4d61-eaf6-5f600e363f1f"
      },
      "execution_count": 4,
      "outputs": [
        {
          "output_type": "execute_result",
          "data": {
            "text/plain": [
              "'\\nThe built-in array package in Python has a few limitations, including:\\n\\nFixed size: Arrays have a fixed size, which means that you cannot add or remove elements after they have been created. \\n            This can be a limitation if you need to store a variable amount of data.\\n\\nSingle data type: Arrays can only store elements of the same data type. This can be a limitation if you need to store data of different types.\\n\\nMemory allocation: Allocating and deallocating memory for arrays can be inefficient, especially for large arrays.\\n\\nComplexity: The array package can be complex to use, especially for beginners.\\n'"
            ],
            "application/vnd.google.colaboratory.intrinsic+json": {
              "type": "string"
            }
          },
          "metadata": {},
          "execution_count": 4
        }
      ]
    },
    {
      "cell_type": "code",
      "source": [
        "# Q3. Describe the main differences between the array and numpy packages."
      ],
      "metadata": {
        "id": "Jcn61hem2SE3"
      },
      "execution_count": 5,
      "outputs": []
    },
    {
      "cell_type": "code",
      "source": [
        "'''\n",
        "The array and numpy packages are both Python modules that provide support for working with arrays. However, there are some key differences between the two packages.\n",
        "\n",
        "Speed: NumPy arrays are generally much faster than built-in arrays. This is because NumPy arrays are stored in contiguous memory,\n",
        "       while built-in arrays can be stored in a variety of ways.\n",
        "Efficiency: NumPy arrays are more efficient for mathematical operations than built-in arrays.\n",
        "            This is because NumPy has a number of optimized functions for performing mathematical operations on arrays.\n",
        "Flexibility: NumPy arrays are more flexible than built-in arrays. This is because NumPy arrays can be of any dimension,\n",
        "             while built-in arrays are always one-dimensional.\n",
        "Convenience: NumPy provides a number of convenience functions that make working with arrays easier.\n",
        "             For example, NumPy has functions for sorting, searching, and subsetting arrays.\n",
        "'''"
      ],
      "metadata": {
        "colab": {
          "base_uri": "https://localhost:8080/",
          "height": 122
        },
        "id": "OJdG0Aw42U3C",
        "outputId": "120326ff-308b-4983-96b3-ab8759996b22"
      },
      "execution_count": 6,
      "outputs": [
        {
          "output_type": "execute_result",
          "data": {
            "text/plain": [
              "'\\nThe array and numpy packages are both Python modules that provide support for working with arrays. However, there are some key differences between the two packages.\\n\\nSpeed: NumPy arrays are generally much faster than built-in arrays. This is because NumPy arrays are stored in contiguous memory, \\n       while built-in arrays can be stored in a variety of ways.\\nEfficiency: NumPy arrays are more efficient for mathematical operations than built-in arrays. \\n            This is because NumPy has a number of optimized functions for performing mathematical operations on arrays.\\nFlexibility: NumPy arrays are more flexible than built-in arrays. This is because NumPy arrays can be of any dimension, \\n             while built-in arrays are always one-dimensional.\\nConvenience: NumPy provides a number of convenience functions that make working with arrays easier. \\n             For example, NumPy has functions for sorting, searching, and subsetting arrays.\\n'"
            ],
            "application/vnd.google.colaboratory.intrinsic+json": {
              "type": "string"
            }
          },
          "metadata": {},
          "execution_count": 6
        }
      ]
    },
    {
      "cell_type": "code",
      "source": [
        "# Q4. Explain the distinctions between the empty, ones, and zeros functions."
      ],
      "metadata": {
        "id": "Ry5uX7rK23d7"
      },
      "execution_count": 7,
      "outputs": []
    },
    {
      "cell_type": "code",
      "source": [
        "'''\n",
        "The empty, ones, and zeros functions are all used to create arrays in Python. However, there are some key distinctions between the three functions.\n",
        "\n",
        "empty: The empty function creates an uninitialized array. This means that the elements of the array are not initialized to any particular value.\n",
        "ones: The ones function creates an array with all elements set to 1.\n",
        "zeros: The zeros function creates an array with all elements set to 0.\n",
        "'''\n",
        "import array\n",
        "\n",
        "# Create an empty array\n",
        "empty_array = array.array('i', [])\n",
        "\n",
        "# Create an array of ones\n",
        "ones_array = array.array('i', [1] * 10)\n",
        "\n",
        "# Create an array of zeros\n",
        "zeros_array = array.array('i', [0] * 10)\n",
        "\n",
        "print(empty_array)\n",
        "print(ones_array)\n",
        "print(zeros_array)\n"
      ],
      "metadata": {
        "colab": {
          "base_uri": "https://localhost:8080/"
        },
        "id": "yVkL5e6P28Hx",
        "outputId": "e933acf2-2c2a-48e9-dfc4-e0782e8055a2"
      },
      "execution_count": 8,
      "outputs": [
        {
          "output_type": "stream",
          "name": "stdout",
          "text": [
            "array('i')\n",
            "array('i', [1, 1, 1, 1, 1, 1, 1, 1, 1, 1])\n",
            "array('i', [0, 0, 0, 0, 0, 0, 0, 0, 0, 0])\n"
          ]
        }
      ]
    },
    {
      "cell_type": "code",
      "source": [
        "# Q5. In the fromfunction function, which is used to construct new arrays, what is the role of the callable argument?"
      ],
      "metadata": {
        "id": "VCrnEtyq3RkJ"
      },
      "execution_count": 9,
      "outputs": []
    },
    {
      "cell_type": "code",
      "source": [
        "'''\n",
        "The callable argument in the fromfunction() function is a function that is used to generate the values of the new array.\n",
        "The function must take as many arguments as the desired array has dimensions. The fromfunction() function will then call the callable function\n",
        "for each element of the new array, passing in the coordinates of the element as arguments.\n",
        "'''"
      ],
      "metadata": {
        "colab": {
          "base_uri": "https://localhost:8080/",
          "height": 70
        },
        "id": "f-LQxxJl3WTV",
        "outputId": "0f1ffa9b-3e8a-4fe1-82b8-4121cdf44460"
      },
      "execution_count": 10,
      "outputs": [
        {
          "output_type": "execute_result",
          "data": {
            "text/plain": [
              "'\\nThe callable argument in the fromfunction() function is a function that is used to generate the values of the new array. \\nThe function must take as many arguments as the desired array has dimensions. The fromfunction() function will then call the callable function \\nfor each element of the new array, passing in the coordinates of the element as arguments.\\n'"
            ],
            "application/vnd.google.colaboratory.intrinsic+json": {
              "type": "string"
            }
          },
          "metadata": {},
          "execution_count": 10
        }
      ]
    },
    {
      "cell_type": "code",
      "source": [
        "# Q6. What happens when a numpy array is combined with a single-value operand (a scalar, such as an int or a floating-point value) through addition,as in the expression A + n?'''"
      ],
      "metadata": {
        "id": "iUViPYYc3yqU"
      },
      "execution_count": 17,
      "outputs": []
    },
    {
      "cell_type": "code",
      "source": [
        "'''\n",
        "When a NumPy array is combined with a single-value operand (a scalar, such as an int or a floating-point value) through addition,\n",
        "as in the expression A + n, the scalar is broadcast across the array and the addition is performed element-wise. This means that the\n",
        "scalar is added to each element of the array, resulting in a new array with the same shape as the original array.\n",
        "'''\n",
        "import numpy as np\n",
        "\n",
        "A = np.array([[1, 2], [3, 4], [5, 6]])\n",
        "n = 10\n",
        "\n",
        "print(A + n)\n",
        "\n"
      ],
      "metadata": {
        "colab": {
          "base_uri": "https://localhost:8080/"
        },
        "id": "dDSDR-sE37-x",
        "outputId": "27887db1-7d07-48b2-d766-948f2d0edc59"
      },
      "execution_count": 14,
      "outputs": [
        {
          "output_type": "stream",
          "name": "stdout",
          "text": [
            "[[11 12]\n",
            " [13 14]\n",
            " [15 16]]\n"
          ]
        }
      ]
    },
    {
      "cell_type": "code",
      "source": [
        "# Q7. Can array-to-scalar operations use combined operation-assign operators (such as += or *=)? What is the outcome?"
      ],
      "metadata": {
        "id": "oKS-IrT34tQB"
      },
      "execution_count": 15,
      "outputs": []
    },
    {
      "cell_type": "code",
      "source": [
        "'''\n",
        "Yes, array-to-scalar operations can use combined operation-assign operators (such as += or *=).\n",
        "The outcome is that the scalar is broadcast across the array and the operation is performed element-wise.\n",
        "This means that the scalar is added to or multiplied by each element of the array, resulting in a new array with the same shape as the original array.\n",
        "'''"
      ],
      "metadata": {
        "colab": {
          "base_uri": "https://localhost:8080/",
          "height": 70
        },
        "id": "TjcC_mw349k7",
        "outputId": "aa9ab681-eae3-4186-8ba5-d8d379e989c4"
      },
      "execution_count": 16,
      "outputs": [
        {
          "output_type": "execute_result",
          "data": {
            "text/plain": [
              "'\\nYes, array-to-scalar operations can use combined operation-assign operators (such as += or *=). \\nThe outcome is that the scalar is broadcast across the array and the operation is performed element-wise. \\nThis means that the scalar is added to or multiplied by each element of the array, resulting in a new array with the same shape as the original array.\\n'"
            ],
            "application/vnd.google.colaboratory.intrinsic+json": {
              "type": "string"
            }
          },
          "metadata": {},
          "execution_count": 16
        }
      ]
    },
    {
      "cell_type": "code",
      "source": [
        "# Q8. Does a numpy array contain fixed-length strings? What happens if you allocate a longer string to one of these arrays?"
      ],
      "metadata": {
        "id": "wTynq7CW5Pb8"
      },
      "execution_count": 18,
      "outputs": []
    },
    {
      "cell_type": "code",
      "source": [
        "'''\n",
        "No, a NumPy array does not contain fixed-length strings. The length of a string in a NumPy array is determined by the longest string in the array.\n",
        "If you allocate a longer string to one of these arrays, the string will be truncated to the length of the array.\n",
        "'''"
      ],
      "metadata": {
        "colab": {
          "base_uri": "https://localhost:8080/",
          "height": 53
        },
        "id": "rH3hDoQH5bN-",
        "outputId": "b759c70f-ca7c-4322-af0e-0b55bf719269"
      },
      "execution_count": 20,
      "outputs": [
        {
          "output_type": "execute_result",
          "data": {
            "text/plain": [
              "'\\nNo, a NumPy array does not contain fixed-length strings. The length of a string in a NumPy array is determined by the longest string in the array. \\nIf you allocate a longer string to one of these arrays, the string will be truncated to the length of the array.\\n'"
            ],
            "application/vnd.google.colaboratory.intrinsic+json": {
              "type": "string"
            }
          },
          "metadata": {},
          "execution_count": 20
        }
      ]
    },
    {
      "cell_type": "code",
      "source": [
        "# Q9. What happens when you combine two numpy arrays using an operation like addition (+) or multiplication (*)? What are the conditions for combining two numpy arrays?"
      ],
      "metadata": {
        "id": "PhGR2AAN5tl6"
      },
      "execution_count": 21,
      "outputs": []
    },
    {
      "cell_type": "code",
      "source": [
        "'''\n",
        "\n",
        "When you combine two NumPy arrays using an operation like addition (+) or multiplication (*), the arrays are first broadcasted to the same shape.\n",
        "This means that the arrays are resized so that they have the same dimensions. The operation is then performed element-wise on the broadcasted arrays.\n",
        "'''\n",
        "'''\n",
        "the conditions for combining two NumPy arrays are as follows:\n",
        "\n",
        "The arrays must have the same data type.\n",
        "The arrays must have the same number of dimensions.\n",
        "The arrays must have compatible shapes. This means that the shapes of the arrays must be compatible for the operation being performed. For example, if you are adding two arrays, the shapes of the arrays must be compatible for addition.\n",
        "If the conditions for combining two NumPy arrays are not met, an error will be raised.\n",
        "'''"
      ],
      "metadata": {
        "colab": {
          "base_uri": "https://localhost:8080/",
          "height": 70
        },
        "id": "svWBm3tm5zX1",
        "outputId": "9e2ca94c-2690-485c-d8d1-3b94dddb1b9a"
      },
      "execution_count": 22,
      "outputs": [
        {
          "output_type": "execute_result",
          "data": {
            "text/plain": [
              "'\\nthe conditions for combining two NumPy arrays are as follows:\\n\\nThe arrays must have the same data type.\\nThe arrays must have the same number of dimensions.\\nThe arrays must have compatible shapes. This means that the shapes of the arrays must be compatible for the operation being performed. For example, if you are adding two arrays, the shapes of the arrays must be compatible for addition.\\nIf the conditions for combining two NumPy arrays are not met, an error will be raised.\\n'"
            ],
            "application/vnd.google.colaboratory.intrinsic+json": {
              "type": "string"
            }
          },
          "metadata": {},
          "execution_count": 22
        }
      ]
    },
    {
      "cell_type": "code",
      "source": [
        "# Q10. What is the best way to use a Boolean array to mask another array?"
      ],
      "metadata": {
        "id": "2pYAIQ7s6SoK"
      },
      "execution_count": 23,
      "outputs": []
    },
    {
      "cell_type": "code",
      "source": [
        "'''\n",
        "The best way to use a Boolean array to mask another array is to use the numpy.ma.masked_where() function.\n",
        "This function takes a Boolean array and an array as input, and it returns a masked array. The masked array will contain the elements of\n",
        "the input array where the Boolean array is True, and it will contain masked values where the Boolean array is False.\n",
        "'''"
      ],
      "metadata": {
        "colab": {
          "base_uri": "https://localhost:8080/",
          "height": 70
        },
        "id": "PfOsdU0s6Y5N",
        "outputId": "d72624ab-9c3d-4d49-fa44-3a4e3b0272ed"
      },
      "execution_count": 24,
      "outputs": [
        {
          "output_type": "execute_result",
          "data": {
            "text/plain": [
              "'\\nThe best way to use a Boolean array to mask another array is to use the numpy.ma.masked_where() function. \\nThis function takes a Boolean array and an array as input, and it returns a masked array. The masked array will contain the elements of \\nthe input array where the Boolean array is True, and it will contain masked values where the Boolean array is False.\\n'"
            ],
            "application/vnd.google.colaboratory.intrinsic+json": {
              "type": "string"
            }
          },
          "metadata": {},
          "execution_count": 24
        }
      ]
    },
    {
      "cell_type": "code",
      "source": [
        "# Q11. What are three different ways to get the standard deviation of a wide collection of data using both standard Python and its packages? Sort the three of them by how quickly they execute."
      ],
      "metadata": {
        "id": "U4egIBcS6hsg"
      },
      "execution_count": 25,
      "outputs": []
    },
    {
      "cell_type": "code",
      "source": [
        "'''\n",
        "here are three different ways to get the standard deviation of a wide collection of data using both standard Python and its packages,\n",
        "sorted by how quickly they execute:'''\n",
        "\n",
        "# 1. NumPy:\n",
        "'''NumPy is a powerful package for scientific computing in Python. It provides a numpy.std() function that can be used to calculate\n",
        "the standard deviation of an array of numbers. NumPy functions are implemented in C, making them highly optimized and efficient.'''\n",
        "\n",
        "# 2. statistics module:\n",
        "'''The statistics module is part of the Python standard library and provides functions for statistical calculations.\n",
        "The statistics.stdev() function can be used to calculate the standard deviation.'''\n",
        "\n",
        "# 3. Math module (manual calculation):\n",
        "'''If you prefer to calculate the standard deviation manually without using external packages, you can use the math module to perform the calculations.\n",
        "However, this method is generally slower than using NumPy or the statistics module.'''"
      ],
      "metadata": {
        "colab": {
          "base_uri": "https://localhost:8080/",
          "height": 53
        },
        "id": "mDLb-jEM6mJk",
        "outputId": "de813ba3-0e08-4ff5-9079-cb3b684313ce"
      },
      "execution_count": 27,
      "outputs": [
        {
          "output_type": "execute_result",
          "data": {
            "text/plain": [
              "'If you prefer to calculate the standard deviation manually without using external packages, you can use the math module to perform the calculations. \\nHowever, this method is generally slower than using NumPy or the statistics module.'"
            ],
            "application/vnd.google.colaboratory.intrinsic+json": {
              "type": "string"
            }
          },
          "metadata": {},
          "execution_count": 27
        }
      ]
    },
    {
      "cell_type": "code",
      "source": [
        "# 12. What is the dimensionality of a Boolean mask-generated array?"
      ],
      "metadata": {
        "id": "jJlleCrZ7TYd"
      },
      "execution_count": 28,
      "outputs": []
    },
    {
      "cell_type": "code",
      "source": [
        "'''\n",
        "The dimensionality of a Boolean mask-generated array is the same as the dimensionality of the array that was masked.\n",
        "This is because the Boolean mask is simply a filter that is applied to the original array. The filter determines which elements of the original array\n",
        "are included in the masked array.'''"
      ],
      "metadata": {
        "colab": {
          "base_uri": "https://localhost:8080/",
          "height": 53
        },
        "id": "IG7DscRy7y-5",
        "outputId": "46ee8ee4-537e-4431-d509-a729d72a4da0"
      },
      "execution_count": 29,
      "outputs": [
        {
          "output_type": "execute_result",
          "data": {
            "text/plain": [
              "'\\nThe dimensionality of a Boolean mask-generated array is the same as the dimensionality of the array that was masked. \\nThis is because the Boolean mask is simply a filter that is applied to the original array. The filter determines which elements of the original array \\nare included in the masked array.'"
            ],
            "application/vnd.google.colaboratory.intrinsic+json": {
              "type": "string"
            }
          },
          "metadata": {},
          "execution_count": 29
        }
      ]
    },
    {
      "cell_type": "code",
      "source": [],
      "metadata": {
        "id": "YCdSuK4Y74ne"
      },
      "execution_count": null,
      "outputs": []
    }
  ]
}