{
  "nbformat": 4,
  "nbformat_minor": 0,
  "metadata": {
    "colab": {
      "provenance": []
    },
    "kernelspec": {
      "name": "python3",
      "display_name": "Python 3"
    },
    "language_info": {
      "name": "python"
    }
  },
  "cells": [
    {
      "cell_type": "markdown",
      "source": [
        "Q1. What are the two latest user-defined exception constraints in Python 3.X?\n",
        "---> In Python 3 does not introduce any specific constraints or limitations on user-defined exceptions. In Python, you can create user-defined exceptions by defining custom exception classes that inherit from the built-in Exception class or any other appropriate exception class."
      ],
      "metadata": {
        "id": "ryvV-kvMGrfi"
      }
    },
    {
      "cell_type": "markdown",
      "source": [
        "Q2. How are class-based exceptions that have been raised matched to handlers?\n",
        "---> In Python, class-based exceptions that have been raised are matched to handlers based on the inheritance hierarchy of the exception classes and the order in which the except clauses are defined. When an exception is raised, Python searches for the closest matching exception handler in the code execution's call stack.\n",
        "\n",
        "The process of matching class-based exceptions to handlers follows these steps:\n",
        "\n",
        "1. The raised exception is compared with the exception types specified in each except clause, starting from the top and moving downwards.\n",
        "\n",
        "2. Python checks if the raised exception is an instance of the exception type specified in the except clause. It does this by traversing the inheritance hierarchy of the raised exception class and looking for a match with the specified exception type.\n",
        "\n",
        "3. If a match is found, the corresponding except block is executed. If multiple except clauses match the raised exception, only the first matching except block is executed. The remaining except blocks are skipped."
      ],
      "metadata": {
        "id": "MOsF2hu_G-ax"
      }
    },
    {
      "cell_type": "markdown",
      "source": [
        "Q3. Describe two methods for attaching context information to exception artefacts.\n",
        "---> When dealing with exceptions in Python, it can be useful to attach context information to exception artifacts, such as the exception object or the traceback. This additional context helps provide more information about the exception and aids in debugging or error analysis. Here are two methods for attaching context information to exception artifacts:\n",
        "\n",
        "1. Exception Arguments:\n",
        "When raising an exception, you can pass additional context information as arguments to the exception class. These arguments can be any data that helps provide context or details about the exception. You can define custom exception classes and add attributes to store the context information or use the existing attributes of built-in exception classes.\n",
        "2. Exception Chaining:\n",
        "Exception chaining is a method where one exception is attached to another exception as its cause. This is done by specifying the from keyword when raising an exception. The chained exception provides a way to track the original exception that led to the current exception, preserving the context and the traceback of the original exception."
      ],
      "metadata": {
        "id": "ilNJzOMwHPwf"
      }
    },
    {
      "cell_type": "markdown",
      "source": [
        "Q4. Describe two methods for specifying the text of an exception object's error message.\n",
        "--->\n",
        "When creating an exception object, there are two common methods for specifying the text of its error message:\n",
        "\n",
        "1. Custom Exception Classes:\n",
        "You can define your own custom exception classes by creating a new class that inherits from the built-in Exception class or any other appropriate exception class. Within the custom exception class, you can define the error message by overriding the __init__() method or defining a custom attribute to hold the error message.\n",
        "2. Formatting String:\n",
        "You can use the formatting capabilities of Python strings to specify the error message dynamically by incorporating variables or other values into the string. This allows you to create more expressive error messages that include relevant details at the time of exception raising."
      ],
      "metadata": {
        "id": "q0QAy2POHdQZ"
      }
    },
    {
      "cell_type": "markdown",
      "source": [
        "Q5. Why do you no longer use string-based exceptions?\n",
        "--->\n",
        "1. Lack of Type Safety\n",
        "2. Limited Exception Information\n",
        "3. Reduced Code Maintainability\n",
        "4. Incompatibility with Exception Hierarchy"
      ],
      "metadata": {
        "id": "vzGmE2sGHjPy"
      }
    }
  ]
}