{
  "nbformat": 4,
  "nbformat_minor": 0,
  "metadata": {
    "colab": {
      "provenance": []
    },
    "kernelspec": {
      "name": "python3",
      "display_name": "Python 3"
    },
    "language_info": {
      "name": "python"
    }
  },
  "cells": [
    {
      "cell_type": "markdown",
      "source": [
        "Q1. What is the purpose of Pythons OOP?\n",
        "---> Since the class is sharable, the code can be reused."
      ],
      "metadata": {
        "id": "pzbQZpMHyuDJ"
      }
    },
    {
      "cell_type": "markdown",
      "source": [
        "Q2. Where does an inheritance search look for an attribute?\n",
        "---> An inheritance search looks for an attribute first in the instance object, then in the class the instance was created from, then in all :higher superclasses, progressing from left to right (by default)."
      ],
      "metadata": {
        "id": "hdgQWwr5y8ZU"
      }
    },
    {
      "cell_type": "markdown",
      "source": [
        "Q3. How do you distinguish between a class object and an instance object?\n",
        "---> Class objects represent the class itself, while instance objects represent individual instances of the class."
      ],
      "metadata": {
        "id": "YMpFAeMvzVB6"
      }
    },
    {
      "cell_type": "markdown",
      "source": [
        "Q4. What makes the first argument in a class’s method function special?\n",
        "---> The calling process is automatic while the receiving process is not (its explicit). This is the reason the first parameter of a function in class must be the object itself."
      ],
      "metadata": {
        "id": "Hq0oyL-Jzzuq"
      }
    },
    {
      "cell_type": "markdown",
      "source": [
        "Q5. What is the purpose of the __init__ method?\n",
        "---> The __init__ method helps class to initialize the object's attributes and serves no other purpose. It is only used within classes."
      ],
      "metadata": {
        "id": "X8kgmT9Z0LPc"
      }
    },
    {
      "cell_type": "markdown",
      "source": [
        "Q6. What is the process for creating a class instance?\n",
        "---> To create instances of a class, you call the class using class name and pass in whatever arguments its __init__ method accepts."
      ],
      "metadata": {
        "id": "Z9Iietc40f66"
      }
    },
    {
      "cell_type": "markdown",
      "source": [
        "Q7. What is the process for creating a class?\n",
        "---> A Class is like an object constructor, or a \"blueprint\" for creating objects."
      ],
      "metadata": {
        "id": "ReCDKJzm0sJu"
      }
    },
    {
      "cell_type": "code",
      "source": [
        "#Example:\n",
        "class Person:\n",
        "  def __init__(self, name, age):\n",
        "    self.name = name\n",
        "    self.age = age\n",
        "\n",
        "p1 = Person(\"John\", 36)\n",
        "\n",
        "print(p1.name)\n",
        "print(p1.age)"
      ],
      "metadata": {
        "colab": {
          "base_uri": "https://localhost:8080/"
        },
        "id": "JbDql4Og1PX6",
        "outputId": "d3ae7662-a12e-41dd-8580-83357feea044"
      },
      "execution_count": 1,
      "outputs": [
        {
          "output_type": "stream",
          "name": "stdout",
          "text": [
            "John\n",
            "36\n"
          ]
        }
      ]
    },
    {
      "cell_type": "markdown",
      "source": [
        "Q8. How would you define the superclasses of a class?\n",
        "---> The class from which a class inherits is called the parent or superclass."
      ],
      "metadata": {
        "id": "7S-Zv_Ks1bVC"
      }
    }
  ]
}