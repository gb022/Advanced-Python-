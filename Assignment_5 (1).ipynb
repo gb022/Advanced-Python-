{
  "nbformat": 4,
  "nbformat_minor": 0,
  "metadata": {
    "colab": {
      "provenance": []
    },
    "kernelspec": {
      "name": "python3",
      "display_name": "Python 3"
    },
    "language_info": {
      "name": "python"
    }
  },
  "cells": [
    {
      "cell_type": "markdown",
      "source": [
        "Q1. What is the meaning of multiple inheritance?\n",
        "---> Multiple inheritance refers to a feature in object-oriented programming languages where a class can inherit properties and behaviors from multiple parent classes. In multiple inheritance, a subclass can inherit attributes and methods from two or more base classes."
      ],
      "metadata": {
        "id": "epNrkJT7DOzk"
      }
    },
    {
      "cell_type": "markdown",
      "source": [
        "Q2. What is the concept of delegation?\n",
        "---> The concept of delegation in programming refers to a design pattern where an object passes the responsibility for a particular task or operation to another object. Delegation allows objects to collaborate and divide the work among themselves by assigning specific tasks to objects that are specialized in handling them."
      ],
      "metadata": {
        "id": "Vi8uwPV0DaDE"
      }
    },
    {
      "cell_type": "markdown",
      "source": [
        "Q3. What is the concept of composition?\n",
        "---> The concept of composition in programming refers to the design technique of building complex objects or systems by combining simpler or smaller objects together. Composition allows objects to be composed of other objects as parts or components, forming a \"has-a\" relationship."
      ],
      "metadata": {
        "id": "iWDDhnSTDkHD"
      }
    },
    {
      "cell_type": "markdown",
      "source": [
        "Q4. What are bound methods and how do we use them?\n",
        "---> Bound methods are a feature in object-oriented programming languages that allow you to access and call instance methods of a class with the specific instance as the implied first argument. When a method is accessed via an instance, it becomes a bound method, and the instance is automatically passed as the first argument (usually named self).\n",
        "To use bound methods, you need to create an instance of a class and then access the method through that instance. When you call a bound method, the instance is automatically passed as the first argument (self), and you can provide additional arguments as needed."
      ],
      "metadata": {
        "id": "0fvOPSAmDtXH"
      }
    },
    {
      "cell_type": "markdown",
      "source": [
        "Q5. What is the purpose of pseudoprivate attributes?\n",
        "---> Pseudoprivate attributes, also known as name mangling, are a convention in Python to create attributes that are intended to be private within a class. The purpose of pseudoprivate attributes is to indicate that those attributes are for internal use within the class and should not be accessed or modified directly from outside the class."
      ],
      "metadata": {
        "id": "-pPz1QKWD8BZ"
      }
    }
  ]
}