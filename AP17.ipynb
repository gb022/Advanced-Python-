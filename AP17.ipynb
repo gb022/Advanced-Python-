{
  "nbformat": 4,
  "nbformat_minor": 0,
  "metadata": {
    "colab": {
      "provenance": []
    },
    "kernelspec": {
      "name": "python3",
      "display_name": "Python 3"
    },
    "language_info": {
      "name": "python"
    }
  },
  "cells": [
    {
      "cell_type": "markdown",
      "source": [
        "Q1. Explain the difference between greedy and non-greedy syntax with visual terms in as few words as possible. What is the bare minimum effort required to transform a greedy pattern into a non-greedy one? What characters or characters can you introduce or change?\n",
        "--->\n",
        "Greedy syntax: Matches as much text as possible.\n",
        "\n",
        "Non-greedy syntax: Matches as little text as possible.\n",
        "\n",
        "Transformation: Add a ? after the quantifier to change from greedy to non-greedy.\n",
        "\n",
        "This minimal change allows you to switch the behavior of the regular expression from greedy to non-greedy, altering the way it matches text in a pattern."
      ],
      "metadata": {
        "id": "xMbxZeP0CgBC"
      }
    },
    {
      "cell_type": "markdown",
      "source": [
        "Q2. When exactly does greedy versus non-greedy make a difference?  What if you're looking for a non-greedy match but the only one available is greedy?\n",
        "---> The distinction between greedy and non-greedy matching makes a difference when you have a pattern that can match multiple occurrences of a subexpression and you want to control the extent of the match.\n",
        "\n",
        "If you are looking for a non-greedy match but the only available option is a greedy match, there are a few possible approaches:\n",
        "\n",
        "Modify the Pattern: If you have control over the pattern, you can modify it to make it more specific. By making the pattern more precise, you can potentially avoid the need for non-greedy matching. This approach is preferred if you can accurately define the specific boundaries of the desired match.\n",
        "\n",
        "Use Non-Greedy Quantifiers: If the pattern allows, you can apply non-greedy quantifiers (*?, +?, ??, {m,n}?) to the quantified subexpression. This tells the regex engine to match as little text as possible. It allows you to enforce non-greedy behavior even in situations where only greedy matches are available.\n",
        "\n",
        "Combine Greedy and Non-Greedy Matching: Sometimes, it may be necessary to combine both greedy and non-greedy matching in a single pattern. You can achieve this by using a combination of positive/negative lookaheads or lookbehinds, or by using alternations (|) to specify multiple possible matches.\n",
        "\n",
        "Post-Process the Greedy Match: If none of the above options are suitable, and you are left with a greedy match but require a non-greedy one, you can post-process the greedy match to extract the desired portion using string manipulation functions or additional logic outside the regular expression."
      ],
      "metadata": {
        "id": "fjXeK9wXCwfK"
      }
    },
    {
      "cell_type": "markdown",
      "source": [
        "Q3. In a simple match of a string, which looks only for one match and does not do any replacement, is the use of a nontagged group likely to make any practical difference?\n",
        "---> In a simple match where you are not capturing or extracting specific subgroups, using a non-tagged group will not significantly affect the result of the match. It primarily serves organizational and quantification purposes in the pattern."
      ],
      "metadata": {
        "id": "5aCI6iRlDGvw"
      }
    },
    {
      "cell_type": "markdown",
      "source": [
        "Q4. Describe a scenario in which using a nontagged category would have a significant impact on the program's outcomes.\n",
        "---> One scenario where using a non-tagged category (non-capturing group) can have a significant impact on program outcomes is when you are using complex regular expressions with alternations and want to extract specific parts of the match while ignoring others."
      ],
      "metadata": {
        "id": "mKFUtGobDaZF"
      }
    },
    {
      "cell_type": "code",
      "source": [
        "#Example\n",
        "import re\n",
        "\n",
        "text = \"\"\"Name: John Doe\n",
        "Age: 25\n",
        "Country: USA\n",
        "\n",
        "Name: Jane Smith\n",
        "Age: 30\n",
        "Country: Canada\"\"\"\n",
        "\n",
        "pattern = r\"(?:Name: (\\w+).*Age: (\\d+))\"\n",
        "matches = re.findall(pattern, text)\n",
        "\n",
        "for match in matches:\n",
        "    name, age = match\n",
        "    print(f\"Name: {name}, Age: {age}\")"
      ],
      "metadata": {
        "id": "-oSX0p5UF2cE"
      },
      "execution_count": 2,
      "outputs": []
    },
    {
      "cell_type": "markdown",
      "source": [
        "Q5. Unlike a normal regex pattern, a look-ahead condition does not consume the characters it examines. Describe a situation in which this could make a difference in the results of your programme.\n",
        "---> One situation where the non-consumable nature of a look-ahead condition in a regular expression could make a difference in the results of your program is when you need to check for the presence or absence of a specific pattern without including it in the final match.\n",
        "\n",
        "Consider a scenario where you want to find email addresses that are followed by a specific domain but do not want to include the domain in the matched result. Let's say you are searching through a large text document and want to extract email addresses that are followed by \"@example.com\".\n",
        "\n",
        "Using a look-ahead condition in this case can be useful. The look-ahead assertion (?=...) allows you to check if a specific pattern exists without consuming the characters that make up that pattern"
      ],
      "metadata": {
        "id": "16SNdqwDF-X1"
      }
    },
    {
      "cell_type": "code",
      "source": [
        "#Example\n",
        "import re\n",
        "\n",
        "text = \"Email addresses: john@example.com, jane@example.com, johndoe@gmail.com\"\n",
        "\n",
        "pattern = r\"\\w+@(?=example.com)\"\n",
        "matches = re.findall(pattern, text)\n",
        "\n",
        "for match in matches:\n",
        "    print(match)\n"
      ],
      "metadata": {
        "colab": {
          "base_uri": "https://localhost:8080/"
        },
        "id": "Lt5h2g0dGqLL",
        "outputId": "75a7518d-2b53-4004-9fbd-27ef16cbe05d"
      },
      "execution_count": 3,
      "outputs": [
        {
          "output_type": "stream",
          "name": "stdout",
          "text": [
            "john@\n",
            "jane@\n"
          ]
        }
      ]
    },
    {
      "cell_type": "markdown",
      "source": [
        "Q6. In standard expressions, what is the difference between positive look-ahead and negative look-ahead?\n",
        "---> In regular expressions, positive look-ahead and negative look-ahead are two types of look-ahead assertions that allow you to check for the presence or absence of a specific pattern ahead of the current position in the string, without including it in the actual match. The main difference between them lies in their conditions and purposes:\n",
        "\n",
        "1. Positive Look-Ahead ((?=...)):\n",
        "\n",
        "Positive look-ahead is denoted by (?=...) syntax.\n",
        "It asserts that a specific pattern must be present ahead of the current position in the string.\n",
        "It does not consume any characters during the match.\n",
        "It is used to include matches where the specified pattern exists ahead.\n",
        "Example: pattern1(?=pattern2) matches occurrences of pattern1 only if they are followed by pattern2.\n",
        "\n",
        "2. Negative Look-Ahead ((?!...)):\n",
        "\n",
        "Negative look-ahead is denoted by (?!...) syntax.\n",
        "It asserts that a specific pattern must not be present ahead of the current position in the string.\n",
        "It does not consume any characters during the match.\n",
        "It is used to exclude matches where the specified pattern exists ahead.\n",
        "Example: pattern1(?!pattern2) matches occurrences of pattern1 only if they are not followed by pattern2."
      ],
      "metadata": {
        "id": "xAPanu17G4Jq"
      }
    },
    {
      "cell_type": "markdown",
      "source": [
        "Q7. What is the benefit of referring to groups by name rather than by number in a standard expression?\n",
        "---> Using named groups in regular expressions improves code readability, makes the code self-documenting, allows for flexible refactoring, and increases the robustness of your code. It is especially beneficial when dealing with complex regular expressions and when capturing multiple groups with specific meanings."
      ],
      "metadata": {
        "id": "3KpXkQbEHuvt"
      }
    },
    {
      "cell_type": "markdown",
      "source": [
        "Q8. Can you identify repeated items within a target string using named groups, as in \"The cow jumped over the moon\"?\n",
        "---> In regular expressions, named groups are primarily used for capturing and extracting specific portions of the target string. They are not specifically designed to identify repeated items within the target string. However, you can utilize named groups along with other regex features to achieve such functionality.\n",
        "\n",
        "If you want to identify repeated items within a target string using named groups, you can use backreferences combined with capturing groups. A capturing group captures a specific pattern, and a backreference refers to a previously captured group. By comparing the backreference with the current capturing group, you can identify repeated items."
      ],
      "metadata": {
        "id": "obdYxxcPH9vg"
      }
    },
    {
      "cell_type": "markdown",
      "source": [
        "Q9. When parsing a string, what is at least one thing that the Scanner interface does for you that the re.findall feature does not?\n",
        "---> When parsing a string, one thing that the Scanner interface in Python's re module does for you that the re.findall function does not is that it allows you to iterate over the matches and process them one at a time, rather than returning all matches at once.\n",
        "\n",
        "The Scanner interface provides a way to scan through a string and find matches incrementally. It returns a match object for each match found, allowing you to access the matched text and perform specific actions on it.\n"
      ],
      "metadata": {
        "id": "9tpgHM_EIcnW"
      }
    },
    {
      "cell_type": "code",
      "source": [
        "import re\n",
        "\n",
        "text = \"The cow jumped over the moon\"\n",
        "\n",
        "pattern = r\"\\b\\w+\\b\"\n",
        "scanner = re.Scanner([(pattern, lambda scanner, token: token)])\n",
        "\n",
        "matches = scanner.scan(text)\n",
        "\n",
        "for match in matches:\n",
        "    print(match)  # Output: ('The',), ('cow',), ('jumped',), ('over',), ('the',), ('moon',)\n"
      ],
      "metadata": {
        "colab": {
          "base_uri": "https://localhost:8080/"
        },
        "id": "RIFZClCPJBJn",
        "outputId": "e0ef660d-ec91-4349-f2a6-1d5f825ac72f"
      },
      "execution_count": 4,
      "outputs": [
        {
          "output_type": "stream",
          "name": "stdout",
          "text": [
            "['The']\n",
            " cow jumped over the moon\n"
          ]
        }
      ]
    },
    {
      "cell_type": "markdown",
      "source": [
        "Q10. Does a scanner object have to be named scanner?\n",
        "---> No, a Scanner object does not have to be named \"scanner\". The name given to the Scanner object is arbitrary and can be chosen based on your preference or the context of your code."
      ],
      "metadata": {
        "id": "0_8ZoclZJDjH"
      }
    }
  ]
}