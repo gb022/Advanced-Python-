{
  "nbformat": 4,
  "nbformat_minor": 0,
  "metadata": {
    "colab": {
      "provenance": []
    },
    "kernelspec": {
      "name": "python3",
      "display_name": "Python 3"
    },
    "language_info": {
      "name": "python"
    }
  },
  "cells": [
    {
      "cell_type": "markdown",
      "source": [
        "Q1. What is the benefit of regular expressions?\n",
        "---> Regular expressions, often referred to as regex, provide a powerful and flexible tool for pattern matching and text manipulation. The benefits of regular expressions include:\n",
        "1. Pattern Matching\n",
        "2. Flexible Search and Replace\n",
        "3. Text Validation and Parsing\n",
        "4. Code Compactness\n",
        "5. Language-Agnostic\n",
        "6. Productivity and Efficiency"
      ],
      "metadata": {
        "id": "jF7aAA-PoO_S"
      }
    },
    {
      "cell_type": "markdown",
      "source": [
        "Q2. Describe the difference between the effects of \"(ab)c+\" and \"a(bc)+.\" Which of these, if any, is the unqualified pattern \"abc+\"?\n",
        "---> The regular expressions \"(ab)c+\" and \"a(bc)+\" have different effects and match different patterns:\n",
        "\n",
        "1. \"(ab)c+\":\n",
        "\n",
        "This regular expression matches strings that start with the sequence \"ab\" and are followed by one or more occurrences of the letter \"c\".\n",
        "Examples of strings that match this pattern are \"abc\", \"abcc\", \"abccc\", and so on.\n",
        "\n",
        "2. \"a(bc)+\":\n",
        "\n",
        "This regular expression matches strings that start with the letter \"a\" followed by one or more occurrences of the sequence \"bc\".\n",
        "Examples of strings that match this pattern are \"abc\", \"abcbc\", \"abcbcbc\", and so on.\n",
        "The unqualified pattern \"abc+\" refers to the pattern that matches the letter \"a\" followed by one or more occurrences of the letter \"b\", with the letter \"c\" being optional. In other words, it matches the letter \"a\" followed by \"b\" repeated one or more times, with the possibility of ending with the letter \"c\"."
      ],
      "metadata": {
        "id": "vhMvuPCooiPK"
      }
    },
    {
      "cell_type": "markdown",
      "source": [
        "Q3. How much do you need to use the following sentence while using regular expressions?\n",
        "--->\n",
        "The sentence \"import re\" is used at the beginning of a Python script or module to import the regular expressions module, which provides functionality for working with regular expressions.\n",
        "\n",
        "To use regular expressions in Python, you need to import the \"re\" module. This module provides various functions and methods for working with regular expressions, such as matching patterns, searching for patterns in strings, replacing patterns, and more."
      ],
      "metadata": {
        "id": "0O8dxHN0o0US"
      }
    },
    {
      "cell_type": "markdown",
      "source": [
        "Q4. Which characters have special significance in square brackets when expressing a range, and under what circumstances?\n",
        "---> In square brackets ([]), certain characters have special significance when expressing a range in a regular expression pattern. These characters serve as metacharacters within square brackets and have specific meanings:\n",
        "1. Hyphen (-): The hyphen is used to specify a range of characters within square brackets. For example, [a-z] represents all lowercase letters from \"a\" to \"z\", and [0-9] represents all digits from 0 to 9.\n",
        "\n",
        "2. Caret (^): When the caret is the first character within square brackets ([^...]), it negates the character set, matching any character that is not specified in the square brackets. For example, [^0-9] matches any character that is not a digit.\n",
        "\n",
        "3. Backslash (\\): The backslash is used to escape certain characters within square brackets if you want to match them literally. For example, [\\[\\]] matches either \"[\" or \"]\" literally."
      ],
      "metadata": {
        "id": "d9XxnGb0pGI2"
      }
    },
    {
      "cell_type": "markdown",
      "source": [
        "Q5. How does compiling a regular-expression object benefit you?\n",
        "---> compiling a regular expression object provides performance benefits, improves code readability and maintainability, reduces redundancy, and allows for customization through flags and options. It is particularly useful when you need to reuse a regular expression pattern multiple times within your code."
      ],
      "metadata": {
        "id": "XXhey9SEpX-w"
      }
    },
    {
      "cell_type": "markdown",
      "source": [
        "Q6. What are some examples of how to use the match object returned by re.match and re.search?"
      ],
      "metadata": {
        "id": "xGOk8m9xpf6y"
      }
    },
    {
      "cell_type": "code",
      "source": [
        "#Example1\n",
        "import re\n",
        "\n",
        "text = \"Hello, World!\"\n",
        "pattern = r\"Hello\"\n",
        "\n",
        "match = re.search(pattern, text)\n",
        "if match:\n",
        "    matched_text = match.group()  # Retrieve the matched text\n",
        "    print(matched_text)  # Output: Hello"
      ],
      "metadata": {
        "colab": {
          "base_uri": "https://localhost:8080/"
        },
        "id": "dBeX0cDcprUo",
        "outputId": "f7cdd585-9b7e-4029-e42b-662f268c27a2"
      },
      "execution_count": 1,
      "outputs": [
        {
          "output_type": "stream",
          "name": "stdout",
          "text": [
            "Hello\n"
          ]
        }
      ]
    },
    {
      "cell_type": "code",
      "source": [
        "import re\n",
        "\n",
        "text = \"Gaurav Kumar\"\n",
        "pattern = r\"(?P<first_name>\\w+) (?P<last_name>\\w+)\"\n",
        "\n",
        "match = re.search(pattern, text)\n",
        "if match:\n",
        "    first_name = match.group(\"first_name\")  # Retrieve the captured group by name\n",
        "    last_name = match.group(\"last_name\")\n",
        "    print(first_name, last_name)  # Output: John Doe\n"
      ],
      "metadata": {
        "colab": {
          "base_uri": "https://localhost:8080/"
        },
        "id": "S0ESeMCkptp4",
        "outputId": "80736589-9582-4d89-fb1c-0e59800c150b"
      },
      "execution_count": 3,
      "outputs": [
        {
          "output_type": "stream",
          "name": "stdout",
          "text": [
            "Gaurav Kumar\n"
          ]
        }
      ]
    },
    {
      "cell_type": "markdown",
      "source": [
        "Q7. What is the difference between using a vertical bar (|) as an alteration and using square brackets as a character set?\n",
        "---> Vertical bar (|) provides options for different patterns to match against, allowing alternatives within the entire pattern. It is used to select one alternative out of several possibilities.\n",
        "\n",
        "Square brackets ([]) define a set of characters that the regex engine will try to match against a single character position. It allows you to specify a range or a specific set of characters to match."
      ],
      "metadata": {
        "id": "Swy3X80lpvy9"
      }
    },
    {
      "cell_type": "markdown",
      "source": [
        "Q8. In regular-expression search patterns, why is it necessary to use the raw-string indicator (r)? In   replacement strings?\n",
        "---> By using raw strings (r) in regular expression search patterns and replacement strings, you can avoid unnecessary backslash escaping, enhance readability, and maintain consistency in your code."
      ],
      "metadata": {
        "id": "fGu8N96rp-m8"
      }
    }
  ]
}