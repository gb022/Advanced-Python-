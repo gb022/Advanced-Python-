{
  "nbformat": 4,
  "nbformat_minor": 0,
  "metadata": {
    "colab": {
      "provenance": []
    },
    "kernelspec": {
      "name": "python3",
      "display_name": "Python 3"
    },
    "language_info": {
      "name": "python"
    }
  },
  "cells": [
    {
      "cell_type": "markdown",
      "source": [
        "Q1. What is the difference between __getattr__ and __getattribute__?\n",
        "---> The key difference is that __getattr__ is only called when the attribute is not found, while __getattribute__ is called for all attribute access, regardless of whether the attribute exists or not. __getattr__ provides a fallback mechanism for missing attributes, while __getattribute__ allows you to customize attribute access behavior for all attributes."
      ],
      "metadata": {
        "id": "_bKT158KKXTt"
      }
    },
    {
      "cell_type": "markdown",
      "source": [
        "Q2. What is the difference between properties and descriptors?\n",
        "---> Properties and descriptors are both mechanisms in Python that allow you to customize attribute access and provide controlled behavior when getting, setting, or deleting attributes. However, there are some differences between properties and descriptors:\n",
        "\n",
        "Properties:\n",
        "\n",
        "1. Properties are a high-level concept built on top of descriptors.\n",
        "2. Properties are defined within a class and are associated with a specific attribute of that class.\n",
        "3. They provide a way to define getter, setter, and deleter methods for the attribute, allowing you to control access to that attribute.\n",
        "4. Properties are accessed using the dot notation, just like regular attributes, without any additional syntax.\n",
        "5. Properties are most commonly used to provide a convenient interface for accessing or manipulating private attributes, performing validation, or performing additional operations when accessing or modifying an attribute.\n",
        "\n",
        "Descriptors:\n",
        "\n",
        "1. Descriptors are a lower-level mechanism that allows you to define the behavior of attribute access for a class, including its instances.\n",
        "2. Descriptors are defined as separate objects that are associated with one or more attributes of a class.\n",
        "3. They implement the __get__, __set__, and/or __delete__ methods, which define the behavior for getting, setting, or deleting the attribute value.\n",
        "4. Descriptors can be used with multiple attributes across different classes, providing reusability of behavior.\n",
        "5. Descriptors are accessed using the dot notation and require special syntax, such as accessing them through the class or using the property() function, to trigger their behavior.\n",
        "6. Descriptors can be used to implement more complex attribute access control, custom data validation, or attribute interception logic."
      ],
      "metadata": {
        "id": "T4Vua_62KjTw"
      }
    },
    {
      "cell_type": "markdown",
      "source": [
        "Q3. What are the key differences in functionality between __getattr__ and __getattribute__, as well as properties and descriptors?\n",
        "---> The key differences in functionality between __getattr__ and __getattribute__, as well as properties and descriptors, are as follows:\n",
        "\n",
        "getattr vs. getattribute:\n",
        "\n",
        "1. __getattr__ is called only when an attribute is not found through the usual attribute lookup process. It acts as a fallback method for accessing missing attributes.\n",
        "2. __getattribute__ is called for every attribute access, regardless of whether the attribute exists or not. It allows you to intercept and customize attribute access behavior for all attributes.\n",
        "The key difference is that __getattr__ is called only for missing attributes, while __getattribute__ is called for all attribute accesses.\n",
        "\n",
        "Properties vs. Descriptors:\n",
        "\n",
        "1. Properties provide a convenient way to define getter, setter, and deleter methods for an attribute within a class. They allow you to control access to that attribute and perform additional operations when getting, setting, or deleting the attribute.\n",
        "2. Descriptors are a lower-level mechanism that allows you to define the behavior of attribute access for a class. They can be associated with one or more attributes of a class and provide the __get__, __set__, and/or __delete__ methods to control attribute access behavior.\n",
        "3. The key difference is that properties are defined within a class and associated with a specific attribute, providing a high-level interface for attribute access customization. Descriptors, on the other hand, are separate objects that can be associated with multiple attributes across different classes, offering a more fine-grained control over attribute access."
      ],
      "metadata": {
        "id": "eENWftoVLGcC"
      }
    }
  ]
}