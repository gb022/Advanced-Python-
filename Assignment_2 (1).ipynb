{
  "nbformat": 4,
  "nbformat_minor": 0,
  "metadata": {
    "colab": {
      "provenance": []
    },
    "kernelspec": {
      "name": "python3",
      "display_name": "Python 3"
    },
    "language_info": {
      "name": "python"
    }
  },
  "cells": [
    {
      "cell_type": "markdown",
      "source": [
        "Q1. What is the relationship between classes and modules?\n",
        "---> Classes in python are templates for creating objects. They contain variables and functions which define the class objects and can be reused. At the same time, modules are python programs that can be imported into another python program."
      ],
      "metadata": {
        "id": "5N6PCOKK8uGQ"
      }
    },
    {
      "cell_type": "markdown",
      "source": [
        "Q2. How do you make instances and classes?\n",
        "---> To create instances of a class, you call the class using class name and pass in whatever arguments its __init__ method accepts."
      ],
      "metadata": {
        "id": "0x10rNx69KZq"
      }
    },
    {
      "cell_type": "markdown",
      "source": [
        "Q3. Where and how should be class attributes created?\n",
        "---> Class attributes are the variables defined directly in the class that are shared by all objects of the class."
      ],
      "metadata": {
        "id": "OLNe_IR89fOH"
      }
    },
    {
      "cell_type": "markdown",
      "source": [
        "Q4. Where and how are instance attributes created?\n",
        "---> An instance attribute is a Python variable belonging to only one object. It is only accessible in the scope of the object and it is defined inside the constructor function of a class."
      ],
      "metadata": {
        "id": "O8UITsqf97_W"
      }
    },
    {
      "cell_type": "markdown",
      "source": [
        "Q5. What does the term &quot;self&quot; in a Python class mean?\n",
        "---> The self parameter is a reference to the current instance of the class, and is used to access variables that belongs to the class."
      ],
      "metadata": {
        "id": "lRITIBFy-Gl8"
      }
    },
    {
      "cell_type": "markdown",
      "source": [
        "Q6. How does a Python class handle operator overloading?\n",
        "---> To perform operator overloading, Python provides some special function or magic function that is automatically invoked when it is associated with that particular operator."
      ],
      "metadata": {
        "id": "zL9WVTlH-RZz"
      }
    },
    {
      "cell_type": "markdown",
      "source": [
        "Q7. When do you consider allowing operator overloading of your classes?\n",
        "---> Ensures that objects of a class behave consistently with built-in types and other user-defined types."
      ],
      "metadata": {
        "id": "NvhY8Xrx-6V4"
      }
    },
    {
      "cell_type": "markdown",
      "source": [
        "Q8. What is the most popular form of operator overloading?\n",
        "---> A very popular and convenient example is the Addition (+) operator."
      ],
      "metadata": {
        "id": "uswn-bdE_OSy"
      }
    },
    {
      "cell_type": "markdown",
      "source": [
        "Q9. What are the two most important concepts to grasp in order to comprehend Python OOP code?\n",
        "---> Inheritance and polymorphism are fundamental concepts of object oriented programming. These concepts help us to create code that can be extended and easily maintainable."
      ],
      "metadata": {
        "id": "TN_7ML_6_gub"
      }
    }
  ]
}